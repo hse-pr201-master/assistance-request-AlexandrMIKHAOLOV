{
 "cells": [
  {
   "cell_type": "markdown",
   "metadata": {},
   "source": [
    "###                                                                      Мотивационное письмо"
   ]
  },
  {
   "cell_type": "markdown",
   "metadata": {},
   "source": [
    "Здравствуй, Дон Пуассон!\n",
    "\n",
    "Звать меня Александр Михайлов, молодецъ бравый из группы  БЭК 1811 стихоморной да дважды первой. Слыхал я, что ты, витязь стольный, ищешь студентов смысленноумных. Дабы стали они асситентами зантными и помогли обучить второкурсников. Вот к тебе письмецо и написываю, да желаю стать частию знатною, предмета отличного, мощного... одним словом ТВиМС солнезарного!\n",
    "\n",
    "**Оцени меня по достоинству да не забудь о моих достижениях:**\n",
    "\n",
    "    - Оценка за курс \"Теория вероятностей\" - 8;\n",
    "    - Накопленная оценка за курс \"Мтематическая статистика\" - 9,5;\n",
    "    - Владение Python (10 за курс по базовому Python на ИАД, 10 за курс по Машинному обучению на ИАД, прохождение курса «Наука о данных»);\n",
    "    - О существовании LaTeX узнал полгода назад, поэтому еще не успел изучить. Планирую заняться этим летом;\n",
    "    -Увлекаюсь слайд-мейкингом, могу летом улучшить дизайн презентаций по курсу. Примеры моих работ приложены к репозиторию;\n",
    "    - Имею обширный опыт ассистенства: провел 12 консультаций по курсу МИКРО-1 на аудиторию размером в 100 человек (в среднем за консультацию). Ссылка на группу с консультациями: https://vk.com/public191366688 \n",
    " \n",
    "Мои контакты:\n",
    "почта_1: sasha.mikh2000@mail.ru\n",
    "почта_2: asmikhaylov_1@edu.hse.ru \n",
    "телефон: +7 (985) 167-07-54 \n",
    "голубиная почта: голубь Борька, прикармливать подсолнечными семечками. Прилетает по вызову.\n",
    "рак по вызову: Макар Раков, женат на первокурснице. Для вызова трижды покрутиться против земной оси и воззвать к Ктулху.\n",
    "\n",
    "LF GHT,ELTN C NJ,JQ CBKF^ LJY GEFCCJY!!!"
   ]
  },
  {
   "cell_type": "code",
   "execution_count": 188,
   "metadata": {},
   "outputs": [],
   "source": [
    "import scipy.stats as ss\n",
    "import numpy as np\n",
    "import pandas as pd"
   ]
  },
  {
   "cell_type": "markdown",
   "metadata": {},
   "source": [
    "**Задача: Утундрий, возвращение инвестора**"
   ]
  },
  {
   "cell_type": "code",
   "execution_count": 1,
   "metadata": {},
   "outputs": [],
   "source": [
    "import pandas as pd\n",
    "import numpy as np"
   ]
  },
  {
   "cell_type": "markdown",
   "metadata": {},
   "source": [
    "Скачаем данные об акциях московской биржи, сбербанка и яндекса с сайта investing.com. "
   ]
  },
  {
   "cell_type": "code",
   "execution_count": 189,
   "metadata": {},
   "outputs": [],
   "source": [
    "df1 = pd.read_csv(\"moex_data.csv\")\n",
    "df2 = pd.read_csv(\"sber_data.csv\")\n",
    "df3 = pd.read_csv(\"yndx_data.csv\")"
   ]
  },
  {
   "cell_type": "code",
   "execution_count": 190,
   "metadata": {},
   "outputs": [
    {
     "data": {
      "text/html": [
       "<div>\n",
       "<style scoped>\n",
       "    .dataframe tbody tr th:only-of-type {\n",
       "        vertical-align: middle;\n",
       "    }\n",
       "\n",
       "    .dataframe tbody tr th {\n",
       "        vertical-align: top;\n",
       "    }\n",
       "\n",
       "    .dataframe thead th {\n",
       "        text-align: right;\n",
       "    }\n",
       "</style>\n",
       "<table border=\"1\" class=\"dataframe\">\n",
       "  <thead>\n",
       "    <tr style=\"text-align: right;\">\n",
       "      <th></th>\n",
       "      <th>Дата</th>\n",
       "      <th>Цена</th>\n",
       "      <th>Откр.</th>\n",
       "      <th>Макс.</th>\n",
       "      <th>Мин.</th>\n",
       "      <th>Объём</th>\n",
       "      <th>Изм. %</th>\n",
       "    </tr>\n",
       "  </thead>\n",
       "  <tbody>\n",
       "    <tr>\n",
       "      <th>0</th>\n",
       "      <td>Июнь '20</td>\n",
       "      <td>116,13</td>\n",
       "      <td>114,28</td>\n",
       "      <td>119,53</td>\n",
       "      <td>111,41</td>\n",
       "      <td>9,80M</td>\n",
       "      <td>1,61%</td>\n",
       "    </tr>\n",
       "    <tr>\n",
       "      <th>1</th>\n",
       "      <td>Май '20</td>\n",
       "      <td>114,29</td>\n",
       "      <td>118,66</td>\n",
       "      <td>128,74</td>\n",
       "      <td>113,11</td>\n",
       "      <td>302,92M</td>\n",
       "      <td>-4,94%</td>\n",
       "    </tr>\n",
       "    <tr>\n",
       "      <th>2</th>\n",
       "      <td>Апр. '20</td>\n",
       "      <td>120,23</td>\n",
       "      <td>95,78</td>\n",
       "      <td>129,15</td>\n",
       "      <td>95,03</td>\n",
       "      <td>410,66M</td>\n",
       "      <td>23,63%</td>\n",
       "    </tr>\n",
       "    <tr>\n",
       "      <th>3</th>\n",
       "      <td>Март '20</td>\n",
       "      <td>97,25</td>\n",
       "      <td>101,40</td>\n",
       "      <td>102,55</td>\n",
       "      <td>79,54</td>\n",
       "      <td>648,54M</td>\n",
       "      <td>-1,85%</td>\n",
       "    </tr>\n",
       "    <tr>\n",
       "      <th>4</th>\n",
       "      <td>Февр. '20</td>\n",
       "      <td>99,08</td>\n",
       "      <td>108,00</td>\n",
       "      <td>115,00</td>\n",
       "      <td>92,30</td>\n",
       "      <td>147,43M</td>\n",
       "      <td>-9,88%</td>\n",
       "    </tr>\n",
       "  </tbody>\n",
       "</table>\n",
       "</div>"
      ],
      "text/plain": [
       "        Дата    Цена   Откр.   Макс.    Мин.    Объём  Изм. %\n",
       "0   Июнь '20  116,13  114,28  119,53  111,41    9,80M   1,61%\n",
       "1    Май '20  114,29  118,66  128,74  113,11  302,92M  -4,94%\n",
       "2   Апр. '20  120,23   95,78  129,15   95,03  410,66M  23,63%\n",
       "3   Март '20   97,25  101,40  102,55   79,54  648,54M  -1,85%\n",
       "4  Февр. '20   99,08  108,00  115,00   92,30  147,43M  -9,88%"
      ]
     },
     "execution_count": 190,
     "metadata": {},
     "output_type": "execute_result"
    }
   ],
   "source": [
    "df1.head()"
   ]
  },
  {
   "cell_type": "markdown",
   "metadata": {},
   "source": [
    "Данные содержат информацию о ценах указанных акций за 2 года с шагом в 1 месяц. Как известно, доход с акций можно разделить на дивидный и доход с роста цены акции. Утундрий желает вложиться в акции с расчетом получить доход благодаря росту цен акций 3 крутых российских компаний: Moex, Сбербанк и Яндекс. Утундрий для начала обрабатывает данные, чтобы получить 3 списка доходностей компаний за 2 года:"
   ]
  },
  {
   "cell_type": "code",
   "execution_count": 191,
   "metadata": {},
   "outputs": [],
   "source": [
    "n = 0\n",
    "for i in (df1,df2,df3):\n",
    "    list = []\n",
    "    for j in range(len(i)):\n",
    "        a = abs(float(i[\"Изм. %\"][j].split(\",\")[0]))\n",
    "        b = 0.01*float(i[\"Изм. %\"][j].split(\",\")[1].split(\"%\")[0])\n",
    "        c = i[\"Изм. %\"][j].split(\",\")[0][0]\n",
    "        if c == \"-\":\n",
    "            list.append((a+b)*(-1))\n",
    "        else:\n",
    "            list.append(a+b)\n",
    "    if n == 0:\n",
    "        moex = list[:]\n",
    "    elif n == 1:\n",
    "        sber = list[:]\n",
    "    elif n == 2:\n",
    "        yndx = list[:]\n",
    "    n +=1"
   ]
  },
  {
   "cell_type": "code",
   "execution_count": 192,
   "metadata": {},
   "outputs": [],
   "source": [
    "moex = np.array(moex)\n",
    "sber = np.array(sber)\n",
    "yndx = np.array(yndx)"
   ]
  },
  {
   "cell_type": "markdown",
   "metadata": {},
   "source": [
    "Получившиеся списки (а точнее, векторы и чисел) показывают среднемесячную доходность акций в процентах за 2 года. Утундрий хочет создать портфель из 3 акций таким образом, чтобы риск был минимален, а доходность максимальна. Помогите сибирскому крокодилу!"
   ]
  },
  {
   "cell_type": "markdown",
   "metadata": {},
   "source": [
    "Найдем дисперсии, ковариации и матожидания по выборкам:"
   ]
  },
  {
   "cell_type": "code",
   "execution_count": 193,
   "metadata": {},
   "outputs": [
    {
     "name": "stdout",
     "output_type": "stream",
     "text": [
      "Матожидание Moex = 0.5495833333333331\n",
      "Матожидание Sber = 0.10166666666666667\n",
      "Матожидание Yndx = 1.5325\n"
     ]
    }
   ],
   "source": [
    "expected_moex = np.mean(moex)\n",
    "expected_sber= np.mean(sber)\n",
    "expected_yndx = np.mean(yndx)\n",
    "print(f\"Матожидание Moex = {expected_moex}\")\n",
    "print(f\"Матожидание Sber = {expected_sber}\")\n",
    "print(f\"Матожидание Yndx = {expected_yndx}\")"
   ]
  },
  {
   "cell_type": "code",
   "execution_count": 194,
   "metadata": {},
   "outputs": [
    {
     "name": "stdout",
     "output_type": "stream",
     "text": [
      "Дисперсия Moex = 59.44585634057971\n",
      "Дисперсия Sber = 61.06077971014493\n",
      "Дисперсия Yndx = 59.47126304347826\n",
      "\n",
      "Риск Moex = 7.710113899325982\n",
      "Риск Sber = 7.814139729371681\n",
      "Риск Yndx = 7.71176134508053\n"
     ]
    }
   ],
   "source": [
    "var_moex = np.var(moex)*len(moex)/(len(moex)-1)\n",
    "var_sber = np.var(sber)*len(sber)/(len(sber)-1)\n",
    "var_yndx = np.var(yndx)*len(yndx)/(len(yndx)-1)\n",
    "print(f\"Дисперсия Moex = {var_moex}\")\n",
    "print(f\"Дисперсия Sber = {var_sber}\")\n",
    "print(f\"Дисперсия Yndx = {var_yndx}\")\n",
    "print()\n",
    "print(f\"Риск Moex = {var_moex**0.5}\")\n",
    "print(f\"Риск Sber = {var_sber**0.5}\")\n",
    "print(f\"Риск Yndx = {var_yndx**0.5}\")"
   ]
  },
  {
   "cell_type": "code",
   "execution_count": 195,
   "metadata": {},
   "outputs": [
    {
     "name": "stdout",
     "output_type": "stream",
     "text": [
      "Ковариация Moex и Sber = 27.195834027777778\n",
      "Ковариация Moex и Yndx = 37.47953437500001\n",
      "Ковариация Sber и Yndx = 18.92334166666667\n",
      "Ковариация Moex, Sber и Yndx = 54.84983654340281\n"
     ]
    }
   ],
   "source": [
    "cov_moex_sber = np.mean((moex-expected_moex)*(sber - expected_sber))\n",
    "cov_moex_yndx = np.mean((moex-expected_moex)*(yndx - expected_yndx))\n",
    "cov_sber_yndx = np.mean((sber-expected_sber)*(yndx - expected_yndx))\n",
    "cov_moex_sber_yndx = np.mean((moex-expected_moex)*(sber - expected_sber)*(yndx - expected_yndx))\n",
    "print(f\"Ковариация Moex и Sber = {cov_moex_sber}\")\n",
    "print(f\"Ковариация Moex и Yndx = {cov_moex_yndx}\")\n",
    "print(f\"Ковариация Sber и Yndx = {cov_sber_yndx}\")\n",
    "print(f\"Ковариация Moex, Sber и Yndx = {cov_moex_sber_yndx}\")"
   ]
  },
  {
   "cell_type": "markdown",
   "metadata": {},
   "source": [
    "Создадим функцию, которая считает риск и доходность портфеля из 3 акций при заданных весах"
   ]
  },
  {
   "cell_type": "code",
   "execution_count": 196,
   "metadata": {},
   "outputs": [],
   "source": [
    "def CASE(w_moex,w_sber):\n",
    "    w_yndx = 1 - w_moex -w_sber\n",
    "    expected_case = w_moex*expected_moex+w_sber*expected_sber+w_yndx*expected_yndx\n",
    "    var_case = (w_moex**2)*var_moex+(w_sber**2)*var_sber+(w_yndx**2)*var_yndx-2*w_moex*w_sber*cov_moex_sber-2*w_moex*w_yndx*cov_moex_yndx-w_sber*w_yndx*w_moex*cov_sber_yndx-2*w_moex*w_sber*w_yndx*cov_moex_sber_yndx\n",
    "    return [expected_case, var_case]"
   ]
  },
  {
   "cell_type": "markdown",
   "metadata": {},
   "source": [
    "(а) Рассчитайте доходность и риск портфеля, где всех трех акций поровну"
   ]
  },
  {
   "cell_type": "code",
   "execution_count": 197,
   "metadata": {},
   "outputs": [
    {
     "name": "stdout",
     "output_type": "stream",
     "text": [
      "Ожидаемая доходность равна 0.73\n",
      "Риск равен 0.93\n"
     ]
    }
   ],
   "source": [
    "print(f\"Ожидаемая доходность равна {round(CASE(1/3,1/3)[0],2)}\")\n",
    "print(f\"Риск равен {round(CASE(1/3,1/3)[1]**0.5,2)}\")"
   ]
  },
  {
   "cell_type": "markdown",
   "metadata": {},
   "source": [
    "Хммм, кажется Утундрию понраву снижение риска в 19 раз)))"
   ]
  },
  {
   "cell_type": "markdown",
   "metadata": {},
   "source": [
    "(б) Утундрий жадничает: он хочет половину портфеля заполнить акциями яндекса, а 1/3 - акциями московской биржи, чтобы доходность была побольше. Во сколько раз возрастет риск?"
   ]
  },
  {
   "cell_type": "code",
   "execution_count": 198,
   "metadata": {},
   "outputs": [
    {
     "name": "stdout",
     "output_type": "stream",
     "text": [
      "Ожидаемая доходность равна 0.97\n",
      "Риск равен 2.02\n"
     ]
    }
   ],
   "source": [
    "print(f\"Ожидаемая доходность равна {round(CASE(1/3,1-1/2-1/3)[0],2)}\")\n",
    "print(f\"Риск равен {round(CASE(1/3,1-1/2-1/3)[1]**0.5,3)}\")"
   ]
  },
  {
   "cell_type": "code",
   "execution_count": 199,
   "metadata": {},
   "outputs": [
    {
     "name": "stdout",
     "output_type": "stream",
     "text": [
      "Риск возрос в 2.17 раз\n"
     ]
    }
   ],
   "source": [
    "print(f\"Риск возрос в {round(2.02/0.93,2)} раз\")"
   ]
  },
  {
   "cell_type": "markdown",
   "metadata": {},
   "source": [
    "(в) Найдите самый доходный портфель"
   ]
  },
  {
   "cell_type": "markdown",
   "metadata": {},
   "source": [
    "Ответ: 100% акций Яндекса"
   ]
  },
  {
   "cell_type": "markdown",
   "metadata": {},
   "source": [
    "(г) Найдите портфель с наименьшим риском"
   ]
  },
  {
   "cell_type": "code",
   "execution_count": 200,
   "metadata": {},
   "outputs": [
    {
     "name": "stdout",
     "output_type": "stream",
     "text": [
      "0.39 0.28\n"
     ]
    }
   ],
   "source": [
    "w1 = np.arange(0,1,0.01)\n",
    "w2 = np.arange(0,1,0.01)\n",
    "lst1 = []\n",
    "lst2 = []\n",
    "for i in w1:\n",
    "    for j in w2:\n",
    "        if (CASE(i,j)[1])**0.5 <0.29:\n",
    "            print(i,j)\n",
    "        lst1.append(([CASE(i,j)[1]**0.5],[i,j,1-i-j]))"
   ]
  },
  {
   "cell_type": "code",
   "execution_count": 201,
   "metadata": {},
   "outputs": [
    {
     "name": "stdout",
     "output_type": "stream",
     "text": [
      "Таковы веса акций в портфеле с наименьшим риском: (0.39, 0.28, 0.32999999999999996)\n",
      "Доходность такого портфеля составит 0.75\n",
      "Риск  такого портфеля составит 0.289\n"
     ]
    }
   ],
   "source": [
    "print(f\"Таковы веса акций в портфеле с наименьшим риском: {0.39, 0.28, 1-0.39-0.28}\")\n",
    "print(f\"Доходность такого портфеля составит {round(CASE(0.39,0.28)[0],2)}\")\n",
    "print(f\"Риск  такого портфеля составит {round(CASE(0.39,0.28)[1]**0.5,3)}\")"
   ]
  },
  {
   "cell_type": "markdown",
   "metadata": {},
   "source": [
    "**УРА!!! Мы помогли Утундрию!**"
   ]
  },
  {
   "cell_type": "markdown",
   "metadata": {},
   "source": [
    "**Задача: написать скрипт для экзамена по гипотезам**\n",
    "Вот пример некоторых скриптов:"
   ]
  },
  {
   "cell_type": "markdown",
   "metadata": {},
   "source": [
    "Среднее и выборочная дисперсия"
   ]
  },
  {
   "cell_type": "code",
   "execution_count": null,
   "metadata": {},
   "outputs": [],
   "source": [
    "def counting_mean_and_variance():\n",
    "    np_array = np.array(list(map(float, input('Введите через пробел наблюдения: ').split())))\n",
    "    n = len(np_array)\n",
    "    mean = np.mean(np_array)\n",
    "    var = ((np.std(np_array))**2)*n/(n-1)\n",
    "    print(f'Среднее равно: {round(mean,3)}')\n",
    "    print(f'Исправленная выборочная дисперсия равна: {round(var,3)}')\n",
    "    print(f'Неисправленная выборочная дисперсия равна: {round((np.std(np_array))**2,3)}')\n",
    "counting_mean_and_variance()"
   ]
  },
  {
   "cell_type": "markdown",
   "metadata": {},
   "source": [
    "Гипотеза о разнице матожиданий для связных выборок"
   ]
  },
  {
   "cell_type": "markdown",
   "metadata": {},
   "source": [
    "Сначала рассчитаем среднее и исправленную выборочную дисперсию для связных выборок"
   ]
  },
  {
   "cell_type": "code",
   "execution_count": null,
   "metadata": {},
   "outputs": [],
   "source": [
    "def raschet():\n",
    "    np_array_x = np.array(list(map(float, input('Введите через пробел наблюдения случайной величины, из которой отнимаете вторую: ').split())))\n",
    "    np_array_y = np.array(list(map(float, input('Введите через пробел наблюдения случайной второй случайно величины: ').split())))\n",
    "    if len(np_array_x) != len(np_array_y):\n",
    "        raise ValueError(\"Это не связные выборки!!!\")\n",
    "    np_array = np_array_x-np_array_y\n",
    "    n = len(np_array)\n",
    "    mean = np.mean(np_array)\n",
    "    var = ((np.std(np_array))**2)*n/(n-1)\n",
    "    print()\n",
    "    print(f'Среднее разницы равно: {round(mean,3)}')\n",
    "    print(f'Исправленная выборочная дисперсия разницы равна: {round(var,3)}')\n",
    "raschet()"
   ]
  },
  {
   "cell_type": "markdown",
   "metadata": {},
   "source": [
    "(а) H1: Разница матожиданий не равна d_0"
   ]
  },
  {
   "cell_type": "code",
   "execution_count": null,
   "metadata": {},
   "outputs": [],
   "source": [
    "def Raznitsa_sviaz_ne_ravna():\n",
    "    alpha = float(input('Введите уровень значимости - альфу: '))\n",
    "    n = int(input('Введите число наблюдений: '))\n",
    "    gran_st = ss.t.ppf(alpha/2, n-1, loc=0, scale=1)\n",
    "    \n",
    "    var_x = float(input('Введите исправленную выборочную дисперсию связных выборок: '))\n",
    "    d_0 = float(input('Введите значение d_0 (если гипотеза о равенстве, то d_0 = 0): '))\n",
    "    x_sred = float(input('Введите среднее связных выборок: '))\n",
    "    \n",
    "    T_nabl = (x_sred - d_0)/(np.sqrt(var_x/n))\n",
    "    print()\n",
    "    print('P-value', round(2*(1 - ss.t.cdf(abs(T_nabl),n-1)),3))\n",
    "    if (gran_st < T_nabl) and (T_nabl < abs(gran_st)):\n",
    "        print(f\"Расчетное значение равно {T_nabl:.3}, а область Н_0: ({gran_st:.3};{abs(gran_st):.3})\")\n",
    "        print('Не отвергаем')\n",
    "    else:\n",
    "        print(f\"Расчетное значение равно {T_nabl:.3}, а область Н_0: ({gran_st:.3};{abs(gran_st):.3})\")\n",
    "        print('Отвергаем')\n",
    "Raznitsa_sviaz_ne_ravna()"
   ]
  },
  {
   "cell_type": "markdown",
   "metadata": {},
   "source": [
    "(б) H1: Разница матожиданий > d_0"
   ]
  },
  {
   "cell_type": "code",
   "execution_count": null,
   "metadata": {},
   "outputs": [],
   "source": [
    "def Raznitsa_sviaz_bolshe():\n",
    "    alpha = float(input('Введите уровень значимости - альфу: '))\n",
    "    n = int(input('Введите число наблюдений: '))\n",
    "    gran_st = ss.t.ppf(1 - alpha, n-1, loc=0, scale=1)\n",
    "    \n",
    "    var_x = float(input('Введите исправленную выборочную дисперсию связных выборок: '))\n",
    "    d_0 = float(input('Введите значение d_0 (если гипотеза о равенстве, то d_0 = 0): '))\n",
    "    x_sred = float(input('Введите среднее связных выборок: '))\n",
    "    \n",
    "    T_nabl = (x_sred - d_0)/(np.sqrt(var_x/n))\n",
    "    print()\n",
    "    print('P-value', round(1 - ss.t.cdf(abs(T_nabl),n-1),3))\n",
    "    if gran_st > T_nabl:\n",
    "        print(f\"Расчетное значение равно {T_nabl:.3}, а область Н_0: (- беск.;{gran_st:.3})\")\n",
    "        print('Не отвергаем')\n",
    "    else:\n",
    "        print(f\"Расчетное значение равно {T_nabl:.3}, а область Н_0: (- беск.;{(gran_st):.3})\")\n",
    "        print('Отвергаем')\n",
    "Raznitsa_sviaz_bolshe()"
   ]
  },
  {
   "cell_type": "markdown",
   "metadata": {},
   "source": [
    "С нетерпением жду твоего ответа, Дон Пуассон!"
   ]
  },
  {
   "cell_type": "code",
   "execution_count": null,
   "metadata": {},
   "outputs": [],
   "source": []
  }
 ],
 "metadata": {
  "kernelspec": {
   "display_name": "Python 3",
   "language": "python",
   "name": "python3"
  },
  "language_info": {
   "codemirror_mode": {
    "name": "ipython",
    "version": 3
   },
   "file_extension": ".py",
   "mimetype": "text/x-python",
   "name": "python",
   "nbconvert_exporter": "python",
   "pygments_lexer": "ipython3",
   "version": "3.7.6"
  }
 },
 "nbformat": 4,
 "nbformat_minor": 4
}
